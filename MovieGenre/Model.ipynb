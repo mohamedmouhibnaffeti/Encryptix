{
 "cells": [
  {
   "cell_type": "markdown",
   "metadata": {},
   "source": [
    "## Read the dataset\n",
    "dataset link : https://www.kaggle.com/datasets/hijest/genre-classification-dataset-imdb"
   ]
  },
  {
   "cell_type": "code",
   "execution_count": null,
   "metadata": {},
   "outputs": [],
   "source": [
    "import pandas as pd\n",
    "\n",
    "train_file_path = \"./Dataset/train_data.txt\"\n",
    "test_file_path = \"./Dataset/test_data_solution.txt\"\n",
    "\n",
    "columns = [\"ID\", \"Title\", \"Genre\", \"Description\"]\n",
    "\n",
    "train_df = pd.read_csv(train_file_path, delimiter=\":::\", header=None, names=columns, engine=\"python\")\n",
    "test_df = pd.read_csv(test_file_path, delimiter=\":::\", header=None, names=columns, engine=\"python\")\n"
   ]
  },
  {
   "cell_type": "markdown",
   "metadata": {},
   "source": [
    "## Feature selection to remove unnecssary features (id and title)"
   ]
  },
  {
   "cell_type": "code",
   "execution_count": null,
   "metadata": {},
   "outputs": [],
   "source": [
    "train_df = train_df.drop(columns=[\"ID\", \"Title\"], axis=1)\n",
    "test_df = test_df.drop(columns=[\"ID\", \"Title\"], axis=1)"
   ]
  },
  {
   "cell_type": "markdown",
   "metadata": {},
   "source": [
    "## Split data into Train test splits"
   ]
  },
  {
   "cell_type": "code",
   "execution_count": null,
   "metadata": {},
   "outputs": [],
   "source": [
    "\n",
    "X_train, Y_train = train_df[\"Description\"], train_df[\"Genre\"]\n",
    "X_test, Y_test = test_df[\"Description\"], test_df[\"Genre\"]\n"
   ]
  },
  {
   "cell_type": "markdown",
   "metadata": {},
   "source": [
    "## Feature Extraction Using TF-IDF"
   ]
  },
  {
   "cell_type": "code",
   "execution_count": null,
   "metadata": {},
   "outputs": [],
   "source": [
    "from sklearn.feature_extraction.text import TfidfVectorizer\n",
    "\n",
    "#converting the text into a matrix of tf-idf features, i removed the stop words beceause they'll add confusion to the model later as they're repeated and won't add any sense\n",
    "verctorizer = TfidfVectorizer(stop_words=\"english\")\n",
    "\n",
    "#now we'll use the fit transform function which does 2 things, learning the vocab of the data with fit function and transforming it into a matrix of tf-idf features where each row represents a document and each column represents a term from the vocab\n",
    "x_train_tfidf = verctorizer.fit_transform(X_train)\n",
    "\n",
    "#now transforming the test data into the same tfidf space learned from the x_train, ensuring the test data is represented in the same way as train data\n",
    "x_test_tfidf = verctorizer.transform(X_test)\n"
   ]
  },
  {
   "cell_type": "markdown",
   "metadata": {},
   "source": [
    "## Model selection (Naive Bayes)"
   ]
  },
  {
   "cell_type": "code",
   "execution_count": null,
   "metadata": {},
   "outputs": [],
   "source": [
    "from sklearn.naive_bayes import MultinomialNB\n",
    "\n",
    "naive_model = MultinomialNB()\n",
    "naive_model.fit(x_train_tfidf, Y_train)\n",
    "predictions = naive_model.predict(x_test_tfidf)"
   ]
  },
  {
   "cell_type": "markdown",
   "metadata": {},
   "source": [
    "## Model selection (Logistic Regression)"
   ]
  },
  {
   "cell_type": "code",
   "execution_count": null,
   "metadata": {},
   "outputs": [],
   "source": [
    "from sklearn.linear_model import LogisticRegression\n",
    "logistic_model = LogisticRegression(max_iter=1000)\n",
    "logistic_model.fit(x_train_tfidf, Y_train)\n"
   ]
  },
  {
   "cell_type": "markdown",
   "metadata": {},
   "source": [
    "## Model selection (SVM)\n",
    "Please note that this model takes too long to train based on your pc spacification (+1 hour)."
   ]
  },
  {
   "cell_type": "code",
   "execution_count": null,
   "metadata": {},
   "outputs": [],
   "source": [
    "from sklearn.svm import SVC\n",
    "\n",
    "svm_model = SVC()\n",
    "svm_model.fit(x_train_tfidf, Y_train)"
   ]
  },
  {
   "cell_type": "markdown",
   "metadata": {},
   "source": [
    "## Predctions"
   ]
  },
  {
   "cell_type": "code",
   "execution_count": null,
   "metadata": {},
   "outputs": [],
   "source": [
    "nb_predictions = naive_model.predict(x_test_tfidf)\n",
    "lr_predictions = logistic_model.predict(x_test_tfidf)\n",
    "svm_predictions = svm_model.predict(x_test_tfidf)"
   ]
  },
  {
   "cell_type": "markdown",
   "metadata": {},
   "source": [
    "## Evaluation"
   ]
  },
  {
   "cell_type": "code",
   "execution_count": null,
   "metadata": {},
   "outputs": [],
   "source": [
    "from sklearn.metrics import classification_report\n",
    "print(\"Naive Bayes Classifier Report:\\n\", classification_report(Y_test, nb_predictions))\n",
    "print(\"Logistic Regression Classifier Report:\\n\", classification_report(Y_test, lr_predictions))\n",
    "print(\"SVM Classifier Report:\\n\", classification_report(Y_test, svm_predictions))"
   ]
  },
  {
   "cell_type": "markdown",
   "metadata": {},
   "source": [
    "## Test"
   ]
  },
  {
   "cell_type": "code",
   "execution_count": null,
   "metadata": {},
   "outputs": [],
   "source": [
    "description = [\"A scientist invents a time machine and travels to the past.\"]\n",
    "description_tfidf = verctorizer.transform(description)\n",
    "print(\"Predicted Genre (Naive Bayes):\", naive_model.predict(description_tfidf)[0])\n",
    "print(\"Predicted Genre (Logistic Regression):\", logistic_model.predict(description_tfidf)[0])\n",
    "print(\"Predicted Genre (SVM):\", svm_model.predict(description_tfidf))"
   ]
  }
 ],
 "metadata": {
  "kernelspec": {
   "display_name": "Python 3",
   "language": "python",
   "name": "python3"
  },
  "language_info": {
   "codemirror_mode": {
    "name": "ipython",
    "version": 3
   },
   "file_extension": ".py",
   "mimetype": "text/x-python",
   "name": "python",
   "nbconvert_exporter": "python",
   "pygments_lexer": "ipython3",
   "version": "3.10.11"
  }
 },
 "nbformat": 4,
 "nbformat_minor": 2
}
