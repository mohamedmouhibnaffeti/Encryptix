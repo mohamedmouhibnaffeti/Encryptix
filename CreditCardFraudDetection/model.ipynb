{
 "cells": [
  {
   "cell_type": "markdown",
   "metadata": {},
   "source": [
    "## Load Dataset\n",
    "### dataset link : https://www.kaggle.com/datasets/kartik2112/fraud-detection"
   ]
  },
  {
   "cell_type": "code",
   "execution_count": 10,
   "metadata": {},
   "outputs": [],
   "source": [
    "import numpy as np\n",
    "import pandas as pd \n",
    "\n",
    "train = pd.read_csv(\"./Dataset/fraudTrain.csv\")\n",
    "test = pd.read_csv(\"./Dataset/fraudTest.csv\")\n"
   ]
  },
  {
   "cell_type": "code",
   "execution_count": 11,
   "metadata": {},
   "outputs": [
    {
     "data": {
      "text/plain": [
       "Index(['Unnamed: 0', 'trans_date_trans_time', 'cc_num', 'merchant', 'category',\n",
       "       'amt', 'first', 'last', 'gender', 'street', 'city', 'state', 'zip',\n",
       "       'lat', 'long', 'city_pop', 'job', 'dob', 'trans_num', 'unix_time',\n",
       "       'merch_lat', 'merch_long', 'is_fraud'],\n",
       "      dtype='object')"
      ]
     },
     "execution_count": 11,
     "metadata": {},
     "output_type": "execute_result"
    }
   ],
   "source": [
    "train.columns"
   ]
  },
  {
   "cell_type": "code",
   "execution_count": 12,
   "metadata": {},
   "outputs": [
    {
     "data": {
      "text/plain": [
       "Unnamed: 0               0\n",
       "trans_date_trans_time    0\n",
       "cc_num                   0\n",
       "merchant                 0\n",
       "category                 0\n",
       "amt                      0\n",
       "first                    0\n",
       "last                     0\n",
       "gender                   0\n",
       "street                   0\n",
       "city                     0\n",
       "state                    0\n",
       "zip                      0\n",
       "lat                      0\n",
       "long                     0\n",
       "city_pop                 0\n",
       "job                      0\n",
       "dob                      0\n",
       "trans_num                0\n",
       "unix_time                0\n",
       "merch_lat                0\n",
       "merch_long               0\n",
       "is_fraud                 0\n",
       "dtype: int64"
      ]
     },
     "execution_count": 12,
     "metadata": {},
     "output_type": "execute_result"
    }
   ],
   "source": [
    "train.isnull().sum()"
   ]
  },
  {
   "cell_type": "code",
   "execution_count": 13,
   "metadata": {},
   "outputs": [],
   "source": [
    "train = train.drop(columns=\"Unnamed: 0\")\n",
    "test = test.drop(columns=\"Unnamed: 0\")"
   ]
  },
  {
   "cell_type": "code",
   "execution_count": 14,
   "metadata": {},
   "outputs": [
    {
     "data": {
      "text/plain": [
       "<bound method NDFrame.head of         trans_date_trans_time               cc_num  \\\n",
       "0         2019-01-01 00:00:18     2703186189652095   \n",
       "1         2019-01-01 00:00:44         630423337322   \n",
       "2         2019-01-01 00:00:51       38859492057661   \n",
       "3         2019-01-01 00:01:16     3534093764340240   \n",
       "4         2019-01-01 00:03:06      375534208663984   \n",
       "...                       ...                  ...   \n",
       "1296670   2020-06-21 12:12:08       30263540414123   \n",
       "1296671   2020-06-21 12:12:19     6011149206456997   \n",
       "1296672   2020-06-21 12:12:32     3514865930894695   \n",
       "1296673   2020-06-21 12:13:36     2720012583106919   \n",
       "1296674   2020-06-21 12:13:37  4292902571056973207   \n",
       "\n",
       "                                    merchant       category     amt  \\\n",
       "0                 fraud_Rippin, Kub and Mann       misc_net    4.97   \n",
       "1            fraud_Heller, Gutmann and Zieme    grocery_pos  107.23   \n",
       "2                       fraud_Lind-Buckridge  entertainment  220.11   \n",
       "3         fraud_Kutch, Hermiston and Farrell  gas_transport   45.00   \n",
       "4                        fraud_Keeling-Crist       misc_pos   41.96   \n",
       "...                                      ...            ...     ...   \n",
       "1296670                    fraud_Reichel Inc  entertainment   15.56   \n",
       "1296671             fraud_Abernathy and Sons    food_dining   51.70   \n",
       "1296672                 fraud_Stiedemann Ltd    food_dining  105.93   \n",
       "1296673  fraud_Reinger, Weissnat and Strosin    food_dining   74.90   \n",
       "1296674  fraud_Langosh, Wintheiser and Hyatt    food_dining    4.30   \n",
       "\n",
       "               first       last gender                         street  \\\n",
       "0           Jennifer      Banks      F                 561 Perry Cove   \n",
       "1          Stephanie       Gill      F   43039 Riley Greens Suite 393   \n",
       "2             Edward    Sanchez      M       594 White Dale Suite 530   \n",
       "3             Jeremy      White      M    9443 Cynthia Court Apt. 038   \n",
       "4              Tyler     Garcia      M               408 Bradley Rest   \n",
       "...              ...        ...    ...                            ...   \n",
       "1296670         Erik  Patterson      M       162 Jessica Row Apt. 072   \n",
       "1296671      Jeffrey      White      M  8617 Holmes Terrace Suite 651   \n",
       "1296672  Christopher  Castaneda      M     1632 Cohen Drive Suite 639   \n",
       "1296673       Joseph     Murray      M           42933 Ryan Underpass   \n",
       "1296674      Jeffrey      Smith      M           135 Joseph Mountains   \n",
       "\n",
       "                             city  ...      lat      long  city_pop  \\\n",
       "0                  Moravian Falls  ...  36.0788  -81.1781      3495   \n",
       "1                          Orient  ...  48.8878 -118.2105       149   \n",
       "2                      Malad City  ...  42.1808 -112.2620      4154   \n",
       "3                         Boulder  ...  46.2306 -112.1138      1939   \n",
       "4                        Doe Hill  ...  38.4207  -79.4629        99   \n",
       "...                           ...  ...      ...       ...       ...   \n",
       "1296670                     Hatch  ...  37.7175 -112.4777       258   \n",
       "1296671                 Tuscarora  ...  39.2667  -77.5101       100   \n",
       "1296672  High Rolls Mountain Park  ...  32.9396 -105.8189       899   \n",
       "1296673                 Manderson  ...  43.3526 -102.5411      1126   \n",
       "1296674                      Sula  ...  45.8433 -113.8748       218   \n",
       "\n",
       "                                       job         dob  \\\n",
       "0                Psychologist, counselling  1988-03-09   \n",
       "1        Special educational needs teacher  1978-06-21   \n",
       "2              Nature conservation officer  1962-01-19   \n",
       "3                          Patent attorney  1967-01-12   \n",
       "4           Dance movement psychotherapist  1986-03-28   \n",
       "...                                    ...         ...   \n",
       "1296670                       Geoscientist  1961-11-24   \n",
       "1296671   Production assistant, television  1979-12-11   \n",
       "1296672                    Naval architect  1967-08-30   \n",
       "1296673              Volunteer coordinator  1980-08-18   \n",
       "1296674           Therapist, horticultural  1995-08-16   \n",
       "\n",
       "                                trans_num   unix_time  merch_lat  merch_long  \\\n",
       "0        0b242abb623afc578575680df30655b9  1325376018  36.011293  -82.048315   \n",
       "1        1f76529f8574734946361c461b024d99  1325376044  49.159047 -118.186462   \n",
       "2        a1a22d70485983eac12b5b88dad1cf95  1325376051  43.150704 -112.154481   \n",
       "3        6b849c168bdad6f867558c3793159a81  1325376076  47.034331 -112.561071   \n",
       "4        a41d7549acf90789359a9aa5346dcb46  1325376186  38.674999  -78.632459   \n",
       "...                                   ...         ...        ...         ...   \n",
       "1296670  440b587732da4dc1a6395aba5fb41669  1371816728  36.841266 -111.690765   \n",
       "1296671  278000d2e0d2277d1de2f890067dcc0a  1371816739  38.906881  -78.246528   \n",
       "1296672  483f52fe67fabef353d552c1e662974c  1371816752  33.619513 -105.130529   \n",
       "1296673  d667cdcbadaaed3da3f4020e83591c83  1371816816  42.788940 -103.241160   \n",
       "1296674  8f7c8e4ab7f25875d753b422917c98c9  1371816817  46.565983 -114.186110   \n",
       "\n",
       "         is_fraud  \n",
       "0               0  \n",
       "1               0  \n",
       "2               0  \n",
       "3               0  \n",
       "4               0  \n",
       "...           ...  \n",
       "1296670         0  \n",
       "1296671         0  \n",
       "1296672         0  \n",
       "1296673         0  \n",
       "1296674         0  \n",
       "\n",
       "[1296675 rows x 22 columns]>"
      ]
     },
     "execution_count": 14,
     "metadata": {},
     "output_type": "execute_result"
    }
   ],
   "source": [
    "train.head"
   ]
  },
  {
   "cell_type": "markdown",
   "metadata": {},
   "source": [
    "## Encoding data"
   ]
  },
  {
   "cell_type": "code",
   "execution_count": 16,
   "metadata": {},
   "outputs": [],
   "source": [
    "from sklearn.preprocessing import LabelEncoder\n",
    "\n",
    "encoder=LabelEncoder()\n",
    "\n",
    "train['merchant']=encoder.fit_transform(train['merchant'])\n",
    "train['category']=encoder.fit_transform(train['category'])\n",
    "train['street']=encoder.fit_transform(train['street'])\n",
    "train['job']=encoder.fit_transform(train['job'])\n",
    "train['trans_num']=encoder.fit_transform(train['trans_num'])\n",
    "train['first']=encoder.fit_transform(train['first'])\n",
    "train['city']=encoder.fit_transform(train['city'])\n",
    "train['state']=encoder.fit_transform(train['state'])\n",
    "train['last']=encoder.fit_transform(train['last'])\n",
    "train['gender']=encoder.fit_transform(train['gender'])\n",
    "train['trans_date_trans_time']=encoder.fit_transform(train['trans_date_trans_time'])\n",
    "train['dob']=encoder.fit_transform(train['dob'])\n",
    "\n",
    "test['merchant']=encoder.fit_transform(test['merchant'])\n",
    "test['category']=encoder.fit_transform(test['category'])\n",
    "test['street']=encoder.fit_transform(test['street'])\n",
    "test['job']=encoder.fit_transform(test['job'])\n",
    "test['trans_num']=encoder.fit_transform(test['trans_num'])\n",
    "test['first']=encoder.fit_transform(test['first'])\n",
    "test['city']=encoder.fit_transform(test['city'])\n",
    "test['state']=encoder.fit_transform(test['state'])\n",
    "test['last']=encoder.fit_transform(test['last'])\n",
    "test['gender']=encoder.fit_transform(test['gender'])\n",
    "test['trans_date_trans_time']=encoder.fit_transform(test['trans_date_trans_time'])\n",
    "test['dob']=encoder.fit_transform(test['dob'])"
   ]
  },
  {
   "cell_type": "code",
   "execution_count": 17,
   "metadata": {},
   "outputs": [
    {
     "data": {
      "text/plain": [
       "<bound method NDFrame.head of          trans_date_trans_time               cc_num  merchant  category  \\\n",
       "0                            0     2703186189652095       514         8   \n",
       "1                            1         630423337322       241         4   \n",
       "2                            2       38859492057661       390         0   \n",
       "3                            3     3534093764340240       360         2   \n",
       "4                            4      375534208663984       297         9   \n",
       "...                        ...                  ...       ...       ...   \n",
       "1296670                1274786       30263540414123       499         0   \n",
       "1296671                1274787     6011149206456997         2         1   \n",
       "1296672                1274788     3514865930894695       599         1   \n",
       "1296673                1274789     2720012583106919       509         1   \n",
       "1296674                1274790  4292902571056973207       370         1   \n",
       "\n",
       "            amt  first  last  gender  street  city  ...      lat      long  \\\n",
       "0          4.97    162    18       0     568   526  ...  36.0788  -81.1781   \n",
       "1        107.23    309   157       0     435   612  ...  48.8878 -118.2105   \n",
       "2        220.11    115   381       1     602   468  ...  42.1808 -112.2620   \n",
       "3         45.00    163   463       1     930    84  ...  46.2306 -112.1138   \n",
       "4         41.96    336   149       1     418   216  ...  38.4207  -79.4629   \n",
       "...         ...    ...   ...     ...     ...   ...  ...      ...       ...   \n",
       "1296670   15.56    121   332       1     154   330  ...  37.7175 -112.4777   \n",
       "1296671   51.70    160   463       1     856   813  ...  39.2667  -77.5101   \n",
       "1296672  105.93     74    67       1     158   346  ...  32.9396 -105.8189   \n",
       "1296673   74.90    179   304       1     433   471  ...  43.3526 -102.5411   \n",
       "1296674    4.30    160   404       1     127   782  ...  45.8433 -113.8748   \n",
       "\n",
       "         city_pop  job  dob  trans_num   unix_time  merch_lat  merch_long  \\\n",
       "0            3495  370  779      56438  1325376018  36.011293  -82.048315   \n",
       "1             149  428  607     159395  1325376044  49.159047 -118.186462   \n",
       "2            4154  307  302     818703  1325376051  43.150704 -112.154481   \n",
       "3            1939  328  397     544575  1325376076  47.034331 -112.561071   \n",
       "4              99  116  734     831111  1325376186  38.674999  -78.632459   \n",
       "...           ...  ...  ...        ...         ...        ...         ...   \n",
       "1296670       258  215  298     344658  1371816728  36.841266 -111.690765   \n",
       "1296671       100  360  630     199896  1371816739  38.906881  -78.246528   \n",
       "1296672       899  308  412     366013  1371816752  33.619513 -105.130529   \n",
       "1296673      1126  485  639    1086299  1371816816  42.788940 -103.241160   \n",
       "1296674       218  467  895     726622  1371816817  46.565983 -114.186110   \n",
       "\n",
       "         is_fraud  \n",
       "0               0  \n",
       "1               0  \n",
       "2               0  \n",
       "3               0  \n",
       "4               0  \n",
       "...           ...  \n",
       "1296670         0  \n",
       "1296671         0  \n",
       "1296672         0  \n",
       "1296673         0  \n",
       "1296674         0  \n",
       "\n",
       "[1296675 rows x 22 columns]>"
      ]
     },
     "execution_count": 17,
     "metadata": {},
     "output_type": "execute_result"
    }
   ],
   "source": [
    "train.head"
   ]
  },
  {
   "cell_type": "markdown",
   "metadata": {},
   "source": [
    "## Splitting data into train test split"
   ]
  },
  {
   "cell_type": "code",
   "execution_count": 20,
   "metadata": {},
   "outputs": [],
   "source": [
    "x_train = train.drop(columns=\"is_fraud\")\n",
    "y_train = train[\"is_fraud\"]\n",
    "\n",
    "x_test = test.drop(columns=\"is_fraud\")\n",
    "y_test = test[\"is_fraud\"]"
   ]
  },
  {
   "cell_type": "markdown",
   "metadata": {},
   "source": [
    "## Logistic Regression Model"
   ]
  },
  {
   "cell_type": "code",
   "execution_count": 23,
   "metadata": {},
   "outputs": [
    {
     "name": "stderr",
     "output_type": "stream",
     "text": [
      "C:\\Users\\mouha\\AppData\\Local\\Packages\\PythonSoftwareFoundation.Python.3.10_qbz5n2kfra8p0\\LocalCache\\local-packages\\Python310\\site-packages\\sklearn\\linear_model\\_logistic.py:458: ConvergenceWarning: lbfgs failed to converge (status=2):\n",
      "ABNORMAL_TERMINATION_IN_LNSRCH.\n",
      "\n",
      "Increase the number of iterations (max_iter) or scale the data as shown in:\n",
      "    https://scikit-learn.org/stable/modules/preprocessing.html\n",
      "Please also refer to the documentation for alternative solver options:\n",
      "    https://scikit-learn.org/stable/modules/linear_model.html#logistic-regression\n",
      "  n_iter_i = _check_optimize_result(\n"
     ]
    },
    {
     "data": {
      "text/html": [
       "<style>#sk-container-id-2 {color: black;background-color: white;}#sk-container-id-2 pre{padding: 0;}#sk-container-id-2 div.sk-toggleable {background-color: white;}#sk-container-id-2 label.sk-toggleable__label {cursor: pointer;display: block;width: 100%;margin-bottom: 0;padding: 0.3em;box-sizing: border-box;text-align: center;}#sk-container-id-2 label.sk-toggleable__label-arrow:before {content: \"▸\";float: left;margin-right: 0.25em;color: #696969;}#sk-container-id-2 label.sk-toggleable__label-arrow:hover:before {color: black;}#sk-container-id-2 div.sk-estimator:hover label.sk-toggleable__label-arrow:before {color: black;}#sk-container-id-2 div.sk-toggleable__content {max-height: 0;max-width: 0;overflow: hidden;text-align: left;background-color: #f0f8ff;}#sk-container-id-2 div.sk-toggleable__content pre {margin: 0.2em;color: black;border-radius: 0.25em;background-color: #f0f8ff;}#sk-container-id-2 input.sk-toggleable__control:checked~div.sk-toggleable__content {max-height: 200px;max-width: 100%;overflow: auto;}#sk-container-id-2 input.sk-toggleable__control:checked~label.sk-toggleable__label-arrow:before {content: \"▾\";}#sk-container-id-2 div.sk-estimator input.sk-toggleable__control:checked~label.sk-toggleable__label {background-color: #d4ebff;}#sk-container-id-2 div.sk-label input.sk-toggleable__control:checked~label.sk-toggleable__label {background-color: #d4ebff;}#sk-container-id-2 input.sk-hidden--visually {border: 0;clip: rect(1px 1px 1px 1px);clip: rect(1px, 1px, 1px, 1px);height: 1px;margin: -1px;overflow: hidden;padding: 0;position: absolute;width: 1px;}#sk-container-id-2 div.sk-estimator {font-family: monospace;background-color: #f0f8ff;border: 1px dotted black;border-radius: 0.25em;box-sizing: border-box;margin-bottom: 0.5em;}#sk-container-id-2 div.sk-estimator:hover {background-color: #d4ebff;}#sk-container-id-2 div.sk-parallel-item::after {content: \"\";width: 100%;border-bottom: 1px solid gray;flex-grow: 1;}#sk-container-id-2 div.sk-label:hover label.sk-toggleable__label {background-color: #d4ebff;}#sk-container-id-2 div.sk-serial::before {content: \"\";position: absolute;border-left: 1px solid gray;box-sizing: border-box;top: 0;bottom: 0;left: 50%;z-index: 0;}#sk-container-id-2 div.sk-serial {display: flex;flex-direction: column;align-items: center;background-color: white;padding-right: 0.2em;padding-left: 0.2em;position: relative;}#sk-container-id-2 div.sk-item {position: relative;z-index: 1;}#sk-container-id-2 div.sk-parallel {display: flex;align-items: stretch;justify-content: center;background-color: white;position: relative;}#sk-container-id-2 div.sk-item::before, #sk-container-id-2 div.sk-parallel-item::before {content: \"\";position: absolute;border-left: 1px solid gray;box-sizing: border-box;top: 0;bottom: 0;left: 50%;z-index: -1;}#sk-container-id-2 div.sk-parallel-item {display: flex;flex-direction: column;z-index: 1;position: relative;background-color: white;}#sk-container-id-2 div.sk-parallel-item:first-child::after {align-self: flex-end;width: 50%;}#sk-container-id-2 div.sk-parallel-item:last-child::after {align-self: flex-start;width: 50%;}#sk-container-id-2 div.sk-parallel-item:only-child::after {width: 0;}#sk-container-id-2 div.sk-dashed-wrapped {border: 1px dashed gray;margin: 0 0.4em 0.5em 0.4em;box-sizing: border-box;padding-bottom: 0.4em;background-color: white;}#sk-container-id-2 div.sk-label label {font-family: monospace;font-weight: bold;display: inline-block;line-height: 1.2em;}#sk-container-id-2 div.sk-label-container {text-align: center;}#sk-container-id-2 div.sk-container {/* jupyter's `normalize.less` sets `[hidden] { display: none; }` but bootstrap.min.css set `[hidden] { display: none !important; }` so we also need the `!important` here to be able to override the default hidden behavior on the sphinx rendered scikit-learn.org. See: https://github.com/scikit-learn/scikit-learn/issues/21755 */display: inline-block !important;position: relative;}#sk-container-id-2 div.sk-text-repr-fallback {display: none;}</style><div id=\"sk-container-id-2\" class=\"sk-top-container\"><div class=\"sk-text-repr-fallback\"><pre>LogisticRegression(max_iter=1000)</pre><b>In a Jupyter environment, please rerun this cell to show the HTML representation or trust the notebook. <br />On GitHub, the HTML representation is unable to render, please try loading this page with nbviewer.org.</b></div><div class=\"sk-container\" hidden><div class=\"sk-item\"><div class=\"sk-estimator sk-toggleable\"><input class=\"sk-toggleable__control sk-hidden--visually\" id=\"sk-estimator-id-2\" type=\"checkbox\" checked><label for=\"sk-estimator-id-2\" class=\"sk-toggleable__label sk-toggleable__label-arrow\">LogisticRegression</label><div class=\"sk-toggleable__content\"><pre>LogisticRegression(max_iter=1000)</pre></div></div></div></div></div>"
      ],
      "text/plain": [
       "LogisticRegression(max_iter=1000)"
      ]
     },
     "execution_count": 23,
     "metadata": {},
     "output_type": "execute_result"
    }
   ],
   "source": [
    "from sklearn.linear_model import LogisticRegression\n",
    "LogisticModel = LogisticRegression(max_iter=1000)\n",
    "LogisticModel.fit(x_train, y_train)"
   ]
  },
  {
   "cell_type": "markdown",
   "metadata": {},
   "source": [
    "## Logistic Regression Predictions"
   ]
  },
  {
   "cell_type": "code",
   "execution_count": 25,
   "metadata": {},
   "outputs": [],
   "source": [
    "logisticPredictions = LogisticModel.predict(x_test)"
   ]
  },
  {
   "cell_type": "markdown",
   "metadata": {},
   "source": [
    "## Classification Report and accuracy score"
   ]
  },
  {
   "cell_type": "code",
   "execution_count": 31,
   "metadata": {},
   "outputs": [
    {
     "name": "stderr",
     "output_type": "stream",
     "text": [
      "C:\\Users\\mouha\\AppData\\Local\\Packages\\PythonSoftwareFoundation.Python.3.10_qbz5n2kfra8p0\\LocalCache\\local-packages\\Python310\\site-packages\\sklearn\\metrics\\_classification.py:1344: UndefinedMetricWarning: Precision and F-score are ill-defined and being set to 0.0 in labels with no predicted samples. Use `zero_division` parameter to control this behavior.\n",
      "  _warn_prf(average, modifier, msg_start, len(result))\n"
     ]
    },
    {
     "name": "stdout",
     "output_type": "stream",
     "text": [
      "Classification Report =\n",
      "              precision    recall  f1-score   support\n",
      "\n",
      "           0       1.00      1.00      1.00    553574\n",
      "           1       0.00      0.00      0.00      2145\n",
      "\n",
      "    accuracy                           1.00    555719\n",
      "   macro avg       0.50      0.50      0.50    555719\n",
      "weighted avg       0.99      1.00      0.99    555719\n",
      "\n",
      "**************************************************\n",
      "Accuracy Score = 0.9961401355721147\n"
     ]
    },
    {
     "name": "stderr",
     "output_type": "stream",
     "text": [
      "C:\\Users\\mouha\\AppData\\Local\\Packages\\PythonSoftwareFoundation.Python.3.10_qbz5n2kfra8p0\\LocalCache\\local-packages\\Python310\\site-packages\\sklearn\\metrics\\_classification.py:1344: UndefinedMetricWarning: Precision and F-score are ill-defined and being set to 0.0 in labels with no predicted samples. Use `zero_division` parameter to control this behavior.\n",
      "  _warn_prf(average, modifier, msg_start, len(result))\n",
      "C:\\Users\\mouha\\AppData\\Local\\Packages\\PythonSoftwareFoundation.Python.3.10_qbz5n2kfra8p0\\LocalCache\\local-packages\\Python310\\site-packages\\sklearn\\metrics\\_classification.py:1344: UndefinedMetricWarning: Precision and F-score are ill-defined and being set to 0.0 in labels with no predicted samples. Use `zero_division` parameter to control this behavior.\n",
      "  _warn_prf(average, modifier, msg_start, len(result))\n"
     ]
    }
   ],
   "source": [
    "from sklearn.metrics import accuracy_score, classification_report\n",
    "\n",
    "print(f\"Classification Report =\\n{classification_report(y_test, logisticPredictions)}\")\n",
    "print(\"*\"*50)\n",
    "print(f\"Accuracy Score = {accuracy_score(y_test, logisticPredictions)}\")"
   ]
  },
  {
   "cell_type": "markdown",
   "metadata": {},
   "source": [
    "## Test case"
   ]
  },
  {
   "cell_type": "code",
   "execution_count": 37,
   "metadata": {},
   "outputs": [
    {
     "name": "stdout",
     "output_type": "stream",
     "text": [
      "Predicted Class for the Test Case: 0\n"
     ]
    }
   ],
   "source": [
    "# this is a non frodulent transaction\n",
    "test_data = {\n",
    "    'trans_date_trans_time': ['2019-01-01 00:00:18'],\n",
    "    'cc_num': [2703186189652095],\n",
    "    'merchant': [\"fraud_Rippin, Kub and Mann\"],\n",
    "    'category': ['misc_net'],\n",
    "    'amt': [4.97],\n",
    "    'first': ['Jennifer'],\n",
    "    'last': ['Banks'],\n",
    "    'gender': ['F'],\n",
    "    'street': ['561 Perry Cove'],\n",
    "    'city': ['Moravian Falls'],\n",
    "    'state': ['NC'],\n",
    "    'zip': [28654],\n",
    "    'lat': [36.0788],\n",
    "    'long': [-81.1781],\n",
    "    'city_pop': [3495],\n",
    "    'job': ['Psychologist, counselling'],\n",
    "    'dob': ['1988-03-09'],\n",
    "    'trans_num': ['0b242abb623afc578575680df30655b9'],\n",
    "    'unix_time': [1325376018],\n",
    "    'merch_lat': [36.011293],\n",
    "    'merch_long': [-82.048315],\n",
    "    'is_fraud': [0]\n",
    "}\n",
    "\n",
    "test_df = pd.DataFrame(test_data)\n",
    "test_df = test_df.drop(columns=\"is_fraud\")\n",
    "\n",
    "test_df['merchant'] = encoder.fit_transform(test_df['merchant'])\n",
    "test_df['category'] = encoder.fit_transform(test_df['category'])\n",
    "test_df['street'] = encoder.fit_transform(test_df['street'])\n",
    "test_df['job'] = encoder.fit_transform(test_df['job'])\n",
    "test_df['trans_num'] = encoder.fit_transform(test_df['trans_num'])\n",
    "test_df['first'] = encoder.fit_transform(test_df['first'])\n",
    "test_df['city'] = encoder.fit_transform(test_df['city'])\n",
    "test_df['state'] = encoder.fit_transform(test_df['state'])\n",
    "test_df['last'] = encoder.fit_transform(test_df['last'])\n",
    "test_df['gender'] = encoder.fit_transform(test_df['gender'])\n",
    "test_df['trans_date_trans_time'] = encoder.fit_transform(test_df['trans_date_trans_time'])\n",
    "test_df['dob'] = encoder.fit_transform(test_df['dob'])\n",
    "\n",
    "\n",
    "y_pred = LogisticModel.predict(test_df)\n",
    "\n",
    "print(f\"Predicted Class for the Test Case: {y_pred[0]}\")\n"
   ]
  },
  {
   "cell_type": "markdown",
   "metadata": {},
   "source": [
    "## ------------------------------------------------------------------------------------------------------------------------------------------"
   ]
  },
  {
   "cell_type": "markdown",
   "metadata": {},
   "source": [
    "## Random Forest Model"
   ]
  },
  {
   "cell_type": "code",
   "execution_count": 38,
   "metadata": {},
   "outputs": [
    {
     "data": {
      "text/html": [
       "<style>#sk-container-id-3 {color: black;background-color: white;}#sk-container-id-3 pre{padding: 0;}#sk-container-id-3 div.sk-toggleable {background-color: white;}#sk-container-id-3 label.sk-toggleable__label {cursor: pointer;display: block;width: 100%;margin-bottom: 0;padding: 0.3em;box-sizing: border-box;text-align: center;}#sk-container-id-3 label.sk-toggleable__label-arrow:before {content: \"▸\";float: left;margin-right: 0.25em;color: #696969;}#sk-container-id-3 label.sk-toggleable__label-arrow:hover:before {color: black;}#sk-container-id-3 div.sk-estimator:hover label.sk-toggleable__label-arrow:before {color: black;}#sk-container-id-3 div.sk-toggleable__content {max-height: 0;max-width: 0;overflow: hidden;text-align: left;background-color: #f0f8ff;}#sk-container-id-3 div.sk-toggleable__content pre {margin: 0.2em;color: black;border-radius: 0.25em;background-color: #f0f8ff;}#sk-container-id-3 input.sk-toggleable__control:checked~div.sk-toggleable__content {max-height: 200px;max-width: 100%;overflow: auto;}#sk-container-id-3 input.sk-toggleable__control:checked~label.sk-toggleable__label-arrow:before {content: \"▾\";}#sk-container-id-3 div.sk-estimator input.sk-toggleable__control:checked~label.sk-toggleable__label {background-color: #d4ebff;}#sk-container-id-3 div.sk-label input.sk-toggleable__control:checked~label.sk-toggleable__label {background-color: #d4ebff;}#sk-container-id-3 input.sk-hidden--visually {border: 0;clip: rect(1px 1px 1px 1px);clip: rect(1px, 1px, 1px, 1px);height: 1px;margin: -1px;overflow: hidden;padding: 0;position: absolute;width: 1px;}#sk-container-id-3 div.sk-estimator {font-family: monospace;background-color: #f0f8ff;border: 1px dotted black;border-radius: 0.25em;box-sizing: border-box;margin-bottom: 0.5em;}#sk-container-id-3 div.sk-estimator:hover {background-color: #d4ebff;}#sk-container-id-3 div.sk-parallel-item::after {content: \"\";width: 100%;border-bottom: 1px solid gray;flex-grow: 1;}#sk-container-id-3 div.sk-label:hover label.sk-toggleable__label {background-color: #d4ebff;}#sk-container-id-3 div.sk-serial::before {content: \"\";position: absolute;border-left: 1px solid gray;box-sizing: border-box;top: 0;bottom: 0;left: 50%;z-index: 0;}#sk-container-id-3 div.sk-serial {display: flex;flex-direction: column;align-items: center;background-color: white;padding-right: 0.2em;padding-left: 0.2em;position: relative;}#sk-container-id-3 div.sk-item {position: relative;z-index: 1;}#sk-container-id-3 div.sk-parallel {display: flex;align-items: stretch;justify-content: center;background-color: white;position: relative;}#sk-container-id-3 div.sk-item::before, #sk-container-id-3 div.sk-parallel-item::before {content: \"\";position: absolute;border-left: 1px solid gray;box-sizing: border-box;top: 0;bottom: 0;left: 50%;z-index: -1;}#sk-container-id-3 div.sk-parallel-item {display: flex;flex-direction: column;z-index: 1;position: relative;background-color: white;}#sk-container-id-3 div.sk-parallel-item:first-child::after {align-self: flex-end;width: 50%;}#sk-container-id-3 div.sk-parallel-item:last-child::after {align-self: flex-start;width: 50%;}#sk-container-id-3 div.sk-parallel-item:only-child::after {width: 0;}#sk-container-id-3 div.sk-dashed-wrapped {border: 1px dashed gray;margin: 0 0.4em 0.5em 0.4em;box-sizing: border-box;padding-bottom: 0.4em;background-color: white;}#sk-container-id-3 div.sk-label label {font-family: monospace;font-weight: bold;display: inline-block;line-height: 1.2em;}#sk-container-id-3 div.sk-label-container {text-align: center;}#sk-container-id-3 div.sk-container {/* jupyter's `normalize.less` sets `[hidden] { display: none; }` but bootstrap.min.css set `[hidden] { display: none !important; }` so we also need the `!important` here to be able to override the default hidden behavior on the sphinx rendered scikit-learn.org. See: https://github.com/scikit-learn/scikit-learn/issues/21755 */display: inline-block !important;position: relative;}#sk-container-id-3 div.sk-text-repr-fallback {display: none;}</style><div id=\"sk-container-id-3\" class=\"sk-top-container\"><div class=\"sk-text-repr-fallback\"><pre>RandomForestClassifier()</pre><b>In a Jupyter environment, please rerun this cell to show the HTML representation or trust the notebook. <br />On GitHub, the HTML representation is unable to render, please try loading this page with nbviewer.org.</b></div><div class=\"sk-container\" hidden><div class=\"sk-item\"><div class=\"sk-estimator sk-toggleable\"><input class=\"sk-toggleable__control sk-hidden--visually\" id=\"sk-estimator-id-3\" type=\"checkbox\" checked><label for=\"sk-estimator-id-3\" class=\"sk-toggleable__label sk-toggleable__label-arrow\">RandomForestClassifier</label><div class=\"sk-toggleable__content\"><pre>RandomForestClassifier()</pre></div></div></div></div></div>"
      ],
      "text/plain": [
       "RandomForestClassifier()"
      ]
     },
     "execution_count": 38,
     "metadata": {},
     "output_type": "execute_result"
    }
   ],
   "source": [
    "from sklearn.ensemble import RandomForestClassifier\n",
    "ForestModel = RandomForestClassifier()\n",
    "ForestModel.fit(x_train, y_train)"
   ]
  },
  {
   "cell_type": "markdown",
   "metadata": {},
   "source": [
    "## Predictions"
   ]
  },
  {
   "cell_type": "code",
   "execution_count": 39,
   "metadata": {},
   "outputs": [],
   "source": [
    "RandomPredictions = ForestModel.predict(x_test)"
   ]
  },
  {
   "cell_type": "markdown",
   "metadata": {},
   "source": [
    "## Classification Report and accuracy score"
   ]
  },
  {
   "cell_type": "code",
   "execution_count": 40,
   "metadata": {},
   "outputs": [
    {
     "name": "stdout",
     "output_type": "stream",
     "text": [
      "Classification Report =\n",
      "              precision    recall  f1-score   support\n",
      "\n",
      "           0       1.00      1.00      1.00    553574\n",
      "           1       0.82      0.40      0.54      2145\n",
      "\n",
      "    accuracy                           1.00    555719\n",
      "   macro avg       0.91      0.70      0.77    555719\n",
      "weighted avg       1.00      1.00      1.00    555719\n",
      "\n",
      "**************************************************\n",
      "Accuracy Score = 0.9973637755772252\n"
     ]
    }
   ],
   "source": [
    "from sklearn.metrics import accuracy_score, classification_report\n",
    "\n",
    "print(f\"Classification Report =\\n{classification_report(y_test, RandomPredictions)}\")\n",
    "print(\"*\"*50)\n",
    "print(f\"Accuracy Score = {accuracy_score(y_test, RandomPredictions)}\")"
   ]
  },
  {
   "cell_type": "markdown",
   "metadata": {},
   "source": [
    "## Test case"
   ]
  },
  {
   "cell_type": "code",
   "execution_count": 42,
   "metadata": {},
   "outputs": [
    {
     "name": "stdout",
     "output_type": "stream",
     "text": [
      "Predicted Class for the Test Case: 0\n"
     ]
    }
   ],
   "source": [
    "# this is a non frodulent transaction\n",
    "test_data = {\n",
    "    'trans_date_trans_time': ['2019-01-01 00:00:18'],\n",
    "    'cc_num': [2703186189652095],\n",
    "    'merchant': [\"fraud_Rippin, Kub and Mann\"],\n",
    "    'category': ['misc_net'],\n",
    "    'amt': [4.97],\n",
    "    'first': ['Jennifer'],\n",
    "    'last': ['Banks'],\n",
    "    'gender': ['F'],\n",
    "    'street': ['561 Perry Cove'],\n",
    "    'city': ['Moravian Falls'],\n",
    "    'state': ['NC'],\n",
    "    'zip': [28654],\n",
    "    'lat': [36.0788],\n",
    "    'long': [-81.1781],\n",
    "    'city_pop': [3495],\n",
    "    'job': ['Psychologist, counselling'],\n",
    "    'dob': ['1988-03-09'],\n",
    "    'trans_num': ['0b242abb623afc578575680df30655b9'],\n",
    "    'unix_time': [1325376018],\n",
    "    'merch_lat': [36.011293],\n",
    "    'merch_long': [-82.048315],\n",
    "    'is_fraud': [0]\n",
    "}\n",
    "\n",
    "test_df = pd.DataFrame(test_data)\n",
    "test_df = test_df.drop(columns=\"is_fraud\")\n",
    "\n",
    "test_df['merchant'] = encoder.fit_transform(test_df['merchant'])\n",
    "test_df['category'] = encoder.fit_transform(test_df['category'])\n",
    "test_df['street'] = encoder.fit_transform(test_df['street'])\n",
    "test_df['job'] = encoder.fit_transform(test_df['job'])\n",
    "test_df['trans_num'] = encoder.fit_transform(test_df['trans_num'])\n",
    "test_df['first'] = encoder.fit_transform(test_df['first'])\n",
    "test_df['city'] = encoder.fit_transform(test_df['city'])\n",
    "test_df['state'] = encoder.fit_transform(test_df['state'])\n",
    "test_df['last'] = encoder.fit_transform(test_df['last'])\n",
    "test_df['gender'] = encoder.fit_transform(test_df['gender'])\n",
    "test_df['trans_date_trans_time'] = encoder.fit_transform(test_df['trans_date_trans_time'])\n",
    "test_df['dob'] = encoder.fit_transform(test_df['dob'])\n",
    "\n",
    "\n",
    "y_pred = ForestModel.predict(test_df)\n",
    "\n",
    "print(f\"Predicted Class for the Test Case: {y_pred[0]}\")\n"
   ]
  },
  {
   "cell_type": "markdown",
   "metadata": {},
   "source": [
    "## Decision Trees Model"
   ]
  },
  {
   "cell_type": "code",
   "execution_count": 43,
   "metadata": {},
   "outputs": [
    {
     "data": {
      "text/html": [
       "<style>#sk-container-id-4 {color: black;background-color: white;}#sk-container-id-4 pre{padding: 0;}#sk-container-id-4 div.sk-toggleable {background-color: white;}#sk-container-id-4 label.sk-toggleable__label {cursor: pointer;display: block;width: 100%;margin-bottom: 0;padding: 0.3em;box-sizing: border-box;text-align: center;}#sk-container-id-4 label.sk-toggleable__label-arrow:before {content: \"▸\";float: left;margin-right: 0.25em;color: #696969;}#sk-container-id-4 label.sk-toggleable__label-arrow:hover:before {color: black;}#sk-container-id-4 div.sk-estimator:hover label.sk-toggleable__label-arrow:before {color: black;}#sk-container-id-4 div.sk-toggleable__content {max-height: 0;max-width: 0;overflow: hidden;text-align: left;background-color: #f0f8ff;}#sk-container-id-4 div.sk-toggleable__content pre {margin: 0.2em;color: black;border-radius: 0.25em;background-color: #f0f8ff;}#sk-container-id-4 input.sk-toggleable__control:checked~div.sk-toggleable__content {max-height: 200px;max-width: 100%;overflow: auto;}#sk-container-id-4 input.sk-toggleable__control:checked~label.sk-toggleable__label-arrow:before {content: \"▾\";}#sk-container-id-4 div.sk-estimator input.sk-toggleable__control:checked~label.sk-toggleable__label {background-color: #d4ebff;}#sk-container-id-4 div.sk-label input.sk-toggleable__control:checked~label.sk-toggleable__label {background-color: #d4ebff;}#sk-container-id-4 input.sk-hidden--visually {border: 0;clip: rect(1px 1px 1px 1px);clip: rect(1px, 1px, 1px, 1px);height: 1px;margin: -1px;overflow: hidden;padding: 0;position: absolute;width: 1px;}#sk-container-id-4 div.sk-estimator {font-family: monospace;background-color: #f0f8ff;border: 1px dotted black;border-radius: 0.25em;box-sizing: border-box;margin-bottom: 0.5em;}#sk-container-id-4 div.sk-estimator:hover {background-color: #d4ebff;}#sk-container-id-4 div.sk-parallel-item::after {content: \"\";width: 100%;border-bottom: 1px solid gray;flex-grow: 1;}#sk-container-id-4 div.sk-label:hover label.sk-toggleable__label {background-color: #d4ebff;}#sk-container-id-4 div.sk-serial::before {content: \"\";position: absolute;border-left: 1px solid gray;box-sizing: border-box;top: 0;bottom: 0;left: 50%;z-index: 0;}#sk-container-id-4 div.sk-serial {display: flex;flex-direction: column;align-items: center;background-color: white;padding-right: 0.2em;padding-left: 0.2em;position: relative;}#sk-container-id-4 div.sk-item {position: relative;z-index: 1;}#sk-container-id-4 div.sk-parallel {display: flex;align-items: stretch;justify-content: center;background-color: white;position: relative;}#sk-container-id-4 div.sk-item::before, #sk-container-id-4 div.sk-parallel-item::before {content: \"\";position: absolute;border-left: 1px solid gray;box-sizing: border-box;top: 0;bottom: 0;left: 50%;z-index: -1;}#sk-container-id-4 div.sk-parallel-item {display: flex;flex-direction: column;z-index: 1;position: relative;background-color: white;}#sk-container-id-4 div.sk-parallel-item:first-child::after {align-self: flex-end;width: 50%;}#sk-container-id-4 div.sk-parallel-item:last-child::after {align-self: flex-start;width: 50%;}#sk-container-id-4 div.sk-parallel-item:only-child::after {width: 0;}#sk-container-id-4 div.sk-dashed-wrapped {border: 1px dashed gray;margin: 0 0.4em 0.5em 0.4em;box-sizing: border-box;padding-bottom: 0.4em;background-color: white;}#sk-container-id-4 div.sk-label label {font-family: monospace;font-weight: bold;display: inline-block;line-height: 1.2em;}#sk-container-id-4 div.sk-label-container {text-align: center;}#sk-container-id-4 div.sk-container {/* jupyter's `normalize.less` sets `[hidden] { display: none; }` but bootstrap.min.css set `[hidden] { display: none !important; }` so we also need the `!important` here to be able to override the default hidden behavior on the sphinx rendered scikit-learn.org. See: https://github.com/scikit-learn/scikit-learn/issues/21755 */display: inline-block !important;position: relative;}#sk-container-id-4 div.sk-text-repr-fallback {display: none;}</style><div id=\"sk-container-id-4\" class=\"sk-top-container\"><div class=\"sk-text-repr-fallback\"><pre>DecisionTreeClassifier()</pre><b>In a Jupyter environment, please rerun this cell to show the HTML representation or trust the notebook. <br />On GitHub, the HTML representation is unable to render, please try loading this page with nbviewer.org.</b></div><div class=\"sk-container\" hidden><div class=\"sk-item\"><div class=\"sk-estimator sk-toggleable\"><input class=\"sk-toggleable__control sk-hidden--visually\" id=\"sk-estimator-id-4\" type=\"checkbox\" checked><label for=\"sk-estimator-id-4\" class=\"sk-toggleable__label sk-toggleable__label-arrow\">DecisionTreeClassifier</label><div class=\"sk-toggleable__content\"><pre>DecisionTreeClassifier()</pre></div></div></div></div></div>"
      ],
      "text/plain": [
       "DecisionTreeClassifier()"
      ]
     },
     "execution_count": 43,
     "metadata": {},
     "output_type": "execute_result"
    }
   ],
   "source": [
    "from sklearn.tree import DecisionTreeClassifier\n",
    "TreeModel = DecisionTreeClassifier()\n",
    "TreeModel.fit(x_train, y_train)"
   ]
  },
  {
   "cell_type": "markdown",
   "metadata": {},
   "source": [
    "## Predictions"
   ]
  },
  {
   "cell_type": "code",
   "execution_count": 44,
   "metadata": {},
   "outputs": [],
   "source": [
    "TreePredictions = TreeModel.predict(x_test)"
   ]
  },
  {
   "cell_type": "markdown",
   "metadata": {},
   "source": [
    "## Classification Report and accuracy score"
   ]
  },
  {
   "cell_type": "code",
   "execution_count": 45,
   "metadata": {},
   "outputs": [
    {
     "name": "stdout",
     "output_type": "stream",
     "text": [
      "Classification Report =\n",
      "              precision    recall  f1-score   support\n",
      "\n",
      "           0       1.00      0.99      0.99    553574\n",
      "           1       0.20      0.56      0.30      2145\n",
      "\n",
      "    accuracy                           0.99    555719\n",
      "   macro avg       0.60      0.78      0.65    555719\n",
      "weighted avg       1.00      0.99      0.99    555719\n",
      "\n",
      "**************************************************\n",
      "Accuracy Score = 0.9897736086043486\n"
     ]
    }
   ],
   "source": [
    "from sklearn.metrics import accuracy_score, classification_report\n",
    "\n",
    "print(f\"Classification Report =\\n{classification_report(y_test, TreePredictions)}\")\n",
    "print(\"*\"*50)\n",
    "print(f\"Accuracy Score = {accuracy_score(y_test, TreePredictions)}\")"
   ]
  },
  {
   "cell_type": "markdown",
   "metadata": {},
   "source": [
    "## Test Case"
   ]
  },
  {
   "cell_type": "code",
   "execution_count": 46,
   "metadata": {},
   "outputs": [
    {
     "name": "stdout",
     "output_type": "stream",
     "text": [
      "Predicted Class for the Test Case: 0\n"
     ]
    }
   ],
   "source": [
    "# this is a non frodulent transaction\n",
    "test_data = {\n",
    "    'trans_date_trans_time': ['2019-01-01 00:00:18'],\n",
    "    'cc_num': [2703186189652095],\n",
    "    'merchant': [\"fraud_Rippin, Kub and Mann\"],\n",
    "    'category': ['misc_net'],\n",
    "    'amt': [4.97],\n",
    "    'first': ['Jennifer'],\n",
    "    'last': ['Banks'],\n",
    "    'gender': ['F'],\n",
    "    'street': ['561 Perry Cove'],\n",
    "    'city': ['Moravian Falls'],\n",
    "    'state': ['NC'],\n",
    "    'zip': [28654],\n",
    "    'lat': [36.0788],\n",
    "    'long': [-81.1781],\n",
    "    'city_pop': [3495],\n",
    "    'job': ['Psychologist, counselling'],\n",
    "    'dob': ['1988-03-09'],\n",
    "    'trans_num': ['0b242abb623afc578575680df30655b9'],\n",
    "    'unix_time': [1325376018],\n",
    "    'merch_lat': [36.011293],\n",
    "    'merch_long': [-82.048315],\n",
    "    'is_fraud': [0]\n",
    "}\n",
    "\n",
    "test_df = pd.DataFrame(test_data)\n",
    "test_df = test_df.drop(columns=\"is_fraud\")\n",
    "\n",
    "test_df['merchant'] = encoder.fit_transform(test_df['merchant'])\n",
    "test_df['category'] = encoder.fit_transform(test_df['category'])\n",
    "test_df['street'] = encoder.fit_transform(test_df['street'])\n",
    "test_df['job'] = encoder.fit_transform(test_df['job'])\n",
    "test_df['trans_num'] = encoder.fit_transform(test_df['trans_num'])\n",
    "test_df['first'] = encoder.fit_transform(test_df['first'])\n",
    "test_df['city'] = encoder.fit_transform(test_df['city'])\n",
    "test_df['state'] = encoder.fit_transform(test_df['state'])\n",
    "test_df['last'] = encoder.fit_transform(test_df['last'])\n",
    "test_df['gender'] = encoder.fit_transform(test_df['gender'])\n",
    "test_df['trans_date_trans_time'] = encoder.fit_transform(test_df['trans_date_trans_time'])\n",
    "test_df['dob'] = encoder.fit_transform(test_df['dob'])\n",
    "\n",
    "\n",
    "y_pred = TreeModel.predict(test_df)\n",
    "\n",
    "print(f\"Predicted Class for the Test Case: {y_pred[0]}\")\n"
   ]
  }
 ],
 "metadata": {
  "kernelspec": {
   "display_name": "Python 3",
   "language": "python",
   "name": "python3"
  },
  "language_info": {
   "codemirror_mode": {
    "name": "ipython",
    "version": 3
   },
   "file_extension": ".py",
   "mimetype": "text/x-python",
   "name": "python",
   "nbconvert_exporter": "python",
   "pygments_lexer": "ipython3",
   "version": "3.10.11"
  }
 },
 "nbformat": 4,
 "nbformat_minor": 2
}
